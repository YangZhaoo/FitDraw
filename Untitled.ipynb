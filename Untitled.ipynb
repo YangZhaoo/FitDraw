{
 "cells": [
  {
   "cell_type": "code",
   "execution_count": 2,
   "id": "013c0500-d137-4b24-8867-a68ea7facce8",
   "metadata": {},
   "outputs": [],
   "source": [
    "from parser import FitParser\n",
    "import numpy as np"
   ]
  },
  {
   "cell_type": "code",
   "execution_count": 4,
   "id": "80c0a90e-1c73-43f9-8d61-9876046a91e3",
   "metadata": {},
   "outputs": [],
   "source": [
    "fitParser = FitParser('./resource/20251001.fit')\n",
    "records = fitParser.parser()"
   ]
  },
  {
   "cell_type": "code",
   "execution_count": 8,
   "id": "5cd6cd93-17c4-478f-acd9-6fa594dd5482",
   "metadata": {},
   "outputs": [],
   "source": [
    "speeds = [record.speed if record.speed is not None else 0 for record in records]"
   ]
  },
  {
   "cell_type": "code",
   "execution_count": 18,
   "id": "2aefad42-da1b-44f9-b3c7-2a8aa49be53c",
   "metadata": {},
   "outputs": [],
   "source": [
    "key_speeds = [25.3, 22.8, 19.7, 16.3]"
   ]
  },
  {
   "cell_type": "code",
   "execution_count": 20,
   "id": "59ebb92c-efb1-4c55-b92e-e081b48ab682",
   "metadata": {},
   "outputs": [],
   "source": [
    "np_match_speeds = np.array(key_speeds)"
   ]
  },
  {
   "cell_type": "code",
   "execution_count": 22,
   "id": "cf6f2d8f-e73a-4c50-b49a-d51ef28f4cd2",
   "metadata": {},
   "outputs": [
    {
     "name": "stdout",
     "output_type": "stream",
     "text": [
      "match the best idx for [527], avg err is [0.0]\n"
     ]
    }
   ],
   "source": [
    "min_avg_err = 100\n",
    "min_start_idx = -1\n",
    "for i in range(0, len(speeds) - np_match_speeds.size):\n",
    "    origin_records = np.array(speeds[i: i + np_match_speeds.size])\n",
    "    avg_err = np.average(abs(origin_records - np_match_speeds))\n",
    "    if avg_err < min_avg_err:\n",
    "        # print(f\"match the best idx for [{i}]\")\n",
    "        min_avg_err = avg_err\n",
    "        min_start_idx = i\n",
    "print(f\"match the best idx for [{min_start_idx}], avg err is [{min_avg_err}]\")"
   ]
  },
  {
   "cell_type": "code",
   "execution_count": 26,
   "id": "b28c32de-6da9-4175-af64-f64c0cff7b24",
   "metadata": {},
   "outputs": [
    {
     "data": {
      "text/plain": [
       "[Record(timestamp=1759293164, date_time=datetime.datetime(2025, 10, 1, 4, 32, 44, tzinfo=datetime.timezone.utc), speed=25.3, location=Location(latitude=40.02095991745591, longitude=116.34524996392429), distance=3665.36),\n",
       " Record(timestamp=1759293165, date_time=datetime.datetime(2025, 10, 1, 4, 32, 45, tzinfo=datetime.timezone.utc), speed=22.8, location=Location(latitude=40.02093996852636, longitude=116.34528994560242), distance=3669.49),\n",
       " Record(timestamp=1759293166, date_time=datetime.datetime(2025, 10, 1, 4, 32, 46, tzinfo=datetime.timezone.utc), speed=19.7, location=Location(latitude=40.02091993577778, longitude=116.34532992728055), distance=3673.37),\n",
       " Record(timestamp=1759293167, date_time=datetime.datetime(2025, 10, 1, 4, 32, 47, tzinfo=datetime.timezone.utc), speed=16.3, location=Location(latitude=40.020899986848235, longitude=116.34533998556435), distance=3675.59)]"
      ]
     },
     "execution_count": 26,
     "metadata": {},
     "output_type": "execute_result"
    }
   ],
   "source": [
    "idx = min_start_idx\n",
    "records[idx:idx+len(key_speeds)]"
   ]
  },
  {
   "cell_type": "code",
   "execution_count": 135,
   "id": "019a5fcb-676d-4c08-8d12-fd365c66bd10",
   "metadata": {},
   "outputs": [
    {
     "data": {
      "text/plain": [
       "22079"
      ]
     },
     "execution_count": 135,
     "metadata": {},
     "output_type": "execute_result"
    }
   ],
   "source": [
    "len(speeds)"
   ]
  },
  {
   "cell_type": "code",
   "execution_count": null,
   "id": "5d953549-0162-4c83-855c-867eae2e5b97",
   "metadata": {},
   "outputs": [],
   "source": []
  }
 ],
 "metadata": {
  "kernelspec": {
   "display_name": "Python 3 (ipykernel)",
   "language": "python",
   "name": "python3"
  },
  "language_info": {
   "codemirror_mode": {
    "name": "ipython",
    "version": 3
   },
   "file_extension": ".py",
   "mimetype": "text/x-python",
   "name": "python",
   "nbconvert_exporter": "python",
   "pygments_lexer": "ipython3",
   "version": "3.12.4"
  }
 },
 "nbformat": 4,
 "nbformat_minor": 5
}
