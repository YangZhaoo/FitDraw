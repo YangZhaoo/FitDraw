{
 "cells": [
  {
   "cell_type": "code",
   "execution_count": 2,
   "id": "90f84cb2-9161-49be-b2cd-e2c5e5230145",
   "metadata": {},
   "outputs": [],
   "source": [
    "from datetime import timedelta\n",
    "from fitparse import FitFile\n",
    "import os\n",
    "import pandas as pd"
   ]
  },
  {
   "cell_type": "code",
   "execution_count": 10,
   "id": "b8106a31-2a8a-4ac9-90c6-aa43694bd149",
   "metadata": {},
   "outputs": [],
   "source": [
    "def parse_fit_file(fit_file_path):\n",
    "    fitfile = FitFile(fit_file_path)\n",
    "    records = []\n",
    "    for record in fitfile.get_messages('record'):\n",
    "        data = {}\n",
    "        for field in record:\n",
    "            data[field.name] = field.value\n",
    "            # 调试输出字段单位（可选）\n",
    "            # print(f\"{field.name}: {field.units}\") if field.units else None\n",
    "\n",
    "        if 'timestamp' in data and 'distance' in data and 'speed' in data:\n",
    "            data['timestamp'] = data['timestamp'] + timedelta(hours=8)  # UTC+8\n",
    "            # data['distance'] *= 1.60934  # 转为千米\n",
    "            data['enhanced_speed'] *= 3.6\n",
    "            data['speed'] *= 3.6        # 转为 km/h\n",
    "            records.append(data)\n",
    "\n",
    "    # df = pd.DataFrame(records)\n",
    "    # df['timestamp'] = pd.to_datetime(df['timestamp'])\n",
    "    # return df\n",
    "    return records"
   ]
  },
  {
   "cell_type": "code",
   "execution_count": 14,
   "id": "5acfd9fa-0a80-43ba-bea0-de311c443619",
   "metadata": {},
   "outputs": [],
   "source": [
    "records = parse_fit_file('./parser/fit_file/test.fit')"
   ]
  },
  {
   "cell_type": "code",
   "execution_count": 20,
   "id": "494836bb-50b3-4605-bca0-b0566c2b6d0b",
   "metadata": {},
   "outputs": [
    {
     "data": {
      "text/plain": [
       "{'distance': 1.01,\n",
       " 'enhanced_speed': 0.2988,\n",
       " 'grade': 0.0,\n",
       " 'position_lat': 476115378,\n",
       " 'position_long': 1389153842,\n",
       " 'speed': 0.2988,\n",
       " 'temperature': 11,\n",
       " 'timestamp': datetime.datetime(2025, 4, 4, 7, 56, 50)}"
      ]
     },
     "execution_count": 20,
     "metadata": {},
     "output_type": "execute_result"
    }
   ],
   "source": [
    "records[10]"
   ]
  },
  {
   "cell_type": "code",
   "execution_count": 24,
   "id": "24769f5a-1edb-4c49-a331-b32abc82edb1",
   "metadata": {},
   "outputs": [],
   "source": [
    "x = []\n",
    "y = []\n",
    "for row in records:\n",
    "    if 'position_lat' in row and 'position_long' in row:\n",
    "        x.append(row['position_lat'])\n",
    "        y.append(row['position_long'])"
   ]
  },
  {
   "cell_type": "code",
   "execution_count": 28,
   "id": "05def711-e48d-4197-8def-1e285a307ed1",
   "metadata": {},
   "outputs": [],
   "source": [
    "from matplotlib import pyplot as plt"
   ]
  },
  {
   "cell_type": "code",
   "execution_count": 44,
   "id": "fe719d05-6fcf-4b35-a6bc-6cf7f8f6788f",
   "metadata": {},
   "outputs": [],
   "source": [
    "import numpy as np"
   ]
  },
  {
   "cell_type": "code",
   "execution_count": 97,
   "id": "58e280a2-bb81-4ac6-9cea-613e4fa5033a",
   "metadata": {},
   "outputs": [],
   "source": [
    "latitude = np.array(x) * (180 / pow(2, 31))\n",
    "longitude = np.array(y) * (180 / pow(2, 31))"
   ]
  },
  {
   "cell_type": "code",
   "execution_count": 92,
   "id": "d70f4e1f-e590-4d56-93a9-b9506039ff75",
   "metadata": {},
   "outputs": [
    {
     "data": {
      "image/png": "[encoded data removed]",
      "text/plain": [
       "<Figure size 640x480 with 1 Axes>"
      ]
     },
     "metadata": {},
     "output_type": "display_data"
    }
   ],
   "source": [
    "plt.scatter(longitude, latitude, s=2)\n",
    "# plt.xlim(11607, 11653)\n",
    "# plt.ylim(3985.5, 3993.5)\n",
    "plt.gca().set_aspect('equal')  # 强制等比例\n",
    "plt.show()"
   ]
  },
  {
   "cell_type": "code",
   "execution_count": 109,
   "id": "47a5075c-1d71-41ad-abda-8732edf39197",
   "metadata": {},
   "outputs": [
    {
     "ename": "NameError",
     "evalue": "name 'lons' is not defined",
     "output_type": "error",
     "traceback": [
      "\u001b[0;31m---------------------------------------------------------------------------\u001b[0m",
      "\u001b[0;31mNameError\u001b[0m                                 Traceback (most recent call last)",
      "Cell \u001b[0;32mIn[109], line 6\u001b[0m\n\u001b[1;32m      4\u001b[0m ax \u001b[38;5;241m=\u001b[39m fig\u001b[38;5;241m.\u001b[39madd_subplot(\u001b[38;5;241m1\u001b[39m, \u001b[38;5;241m1\u001b[39m, \u001b[38;5;241m1\u001b[39m, projection\u001b[38;5;241m=\u001b[39mccrs\u001b[38;5;241m.\u001b[39mPlateCarree())\n\u001b[1;32m      5\u001b[0m ax\u001b[38;5;241m.\u001b[39mscatter(longitude, latitude, color\u001b[38;5;241m=\u001b[39m\u001b[38;5;124m'\u001b[39m\u001b[38;5;124mgray\u001b[39m\u001b[38;5;124m'\u001b[39m, s\u001b[38;5;241m=\u001b[39m\u001b[38;5;241m1\u001b[39m, transform\u001b[38;5;241m=\u001b[39mccrs\u001b[38;5;241m.\u001b[39mPlateCarree())\n\u001b[0;32m----> 6\u001b[0m ax\u001b[38;5;241m.\u001b[39mset_extent([\u001b[38;5;28mmin\u001b[39m(lons), \u001b[38;5;28mmax\u001b[39m(lons), \u001b[38;5;28mmin\u001b[39m(lats), \u001b[38;5;28mmax\u001b[39m(lats)])  \u001b[38;5;66;03m# 自动等比例\u001b[39;00m\n\u001b[1;32m      7\u001b[0m ax\u001b[38;5;241m.\u001b[39mcoastlines()  \u001b[38;5;66;03m# 可选：添加海岸线\u001b[39;00m\n\u001b[1;32m      8\u001b[0m plt\u001b[38;5;241m.\u001b[39mshow()\n",
      "\u001b[0;31mNameError\u001b[0m: name 'lons' is not defined"
     ]
    },
    {
     "data": {
      "image/png": "[encoded data removed]",
      "text/plain": [
       "<Figure size 1000x600 with 1 Axes>"
      ]
     },
     "metadata": {},
     "output_type": "display_data"
    }
   ],
   "source": [
    "import cartopy.crs as ccrs\n",
    "\n",
    "fig = plt.figure(figsize=(10, 6))\n",
    "ax = fig.add_subplot(1, 1, 1, projection=ccrs.PlateCarree())\n",
    "ax.scatter(longitude, latitude, color='gray', s=1, transform=ccrs.PlateCarree())\n",
    "ax.set_extent([min(lons), max(lons), min(lats), max(lats)])  # 自动等比例\n",
    "ax.coastlines()  # 可选：添加海岸线\n",
    "plt.show()"
   ]
  },
  {
   "cell_type": "code",
   "execution_count": null,
   "id": "0f856698-c853-462a-a6a4-caa6a3164423",
   "metadata": {},
   "outputs": [],
   "source": []
  }
 ],
 "metadata": {
  "kernelspec": {
   "display_name": "Python 3 (ipykernel)",
   "language": "python",
   "name": "python3"
  },
  "language_info": {
   "codemirror_mode": {
    "name": "ipython",
    "version": 3
   },
   "file_extension": ".py",
   "mimetype": "text/x-python",
   "name": "python",
   "nbconvert_exporter": "python",
   "pygments_lexer": "ipython3",
   "version": "3.12.4"
  }
 },
 "nbformat": 4,
 "nbformat_minor": 5
}
