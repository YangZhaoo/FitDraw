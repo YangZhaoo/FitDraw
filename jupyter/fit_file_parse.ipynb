{
 "cells": [
  {
   "cell_type": "code",
   "execution_count": 6,
   "id": "e81aae10-45fc-4847-9a49-beb0959b2b7a",
   "metadata": {},
   "outputs": [],
   "source": [
    "from garmin_fit_sdk import Decoder, Stream\n",
    "\n",
    "stream = Stream.from_file(\"20251001.fit\")\n",
    "decoder = Decoder(stream)\n",
    "messages, errors = decoder.read()\n"
   ]
  },
  {
   "cell_type": "code",
   "execution_count": null,
   "id": "23b9a0f6-efac-4113-bf33-a69d7bacb9f7",
   "metadata": {},
   "outputs": [],
   "source": [
    "# print(errors)\n",
    "print(messages)"
   ]
  },
  {
   "cell_type": "code",
   "execution_count": 18,
   "id": "dad5da21-f50b-4a48-9fab-fd39b941ee7c",
   "metadata": {},
   "outputs": [
    {
     "data": {
      "text/plain": [
       "dict_keys(['file_id_mesgs', 'software_mesgs', 'record_mesgs', 'session_mesgs', 'activity_mesgs'])"
      ]
     },
     "execution_count": 18,
     "metadata": {},
     "output_type": "execute_result"
    }
   ],
   "source": [
    "messages.keys()"
   ]
  },
  {
   "cell_type": "code",
   "execution_count": 20,
   "id": "12897f6d-e74d-4d90-a047-0f9f8eed197a",
   "metadata": {},
   "outputs": [
    {
     "data": {
      "text/plain": [
       "[{'serial_number': 224002150,\n",
       "  'time_created': datetime.datetime(2025, 10, 1, 4, 22, 17, tzinfo=datetime.timezone.utc),\n",
       "  'product_name': '2851-229',\n",
       "  'manufacturer': 'magene',\n",
       "  'product': 96,\n",
       "  'type': 'activity'}]"
      ]
     },
     "execution_count": 20,
     "metadata": {},
     "output_type": "execute_result"
    }
   ],
   "source": [
    "messages['file_id_mesgs']"
   ]
  },
  {
   "cell_type": "code",
   "execution_count": 24,
   "id": "9f44dd55-ea44-42c5-a824-bbd13fc4ab03",
   "metadata": {},
   "outputs": [
    {
     "data": {
      "text/plain": [
       "[{'timestamp': datetime.datetime(2025, 10, 1, 12, 27, 13, tzinfo=datetime.timezone.utc),\n",
       "  'start_time': datetime.datetime(2025, 10, 1, 4, 22, 17, tzinfo=datetime.timezone.utc),\n",
       "  'sport': 'cycling',\n",
       "  'sub_sport': 'road',\n",
       "  'max_temperature': 32,\n",
       "  'avg_temperature': 25,\n",
       "  'total_ascent': 114,\n",
       "  'total_distance': 150072.61,\n",
       "  'total_elapsed_time': 29096.0,\n",
       "  'total_timer_time': 21898.0,\n",
       "  'total_moving_time': 21898.0,\n",
       "  'total_calories': 4815,\n",
       "  'total_work': 0,\n",
       "  'max_power': 0,\n",
       "  'max_speed': 10.75,\n",
       "  'max_cadence': 0,\n",
       "  'max_heart_rate': 0,\n",
       "  'avg_power': 0,\n",
       "  'avg_speed': 6.852,\n",
       "  'avg_cadence': 0,\n",
       "  'avg_heart_rate': 0,\n",
       "  'enhanced_avg_speed': 6.852,\n",
       "  'enhanced_max_speed': 10.75}]"
      ]
     },
     "execution_count": 24,
     "metadata": {},
     "output_type": "execute_result"
    }
   ],
   "source": [
    "messages['session_mesgs']"
   ]
  },
  {
   "cell_type": "code",
   "execution_count": 28,
   "id": "ba319796-c494-4a17-b06a-d1ba37fa9934",
   "metadata": {},
   "outputs": [
    {
     "data": {
      "text/plain": [
       "6.082777777777777"
      ]
     },
     "execution_count": 28,
     "metadata": {},
     "output_type": "execute_result"
    }
   ],
   "source": [
    "21898.0 / 60 / 60"
   ]
  },
  {
   "cell_type": "code",
   "execution_count": 34,
   "id": "b5b504af-3aa3-44aa-9768-c90199cbb6ba",
   "metadata": {},
   "outputs": [
    {
     "data": {
      "text/plain": [
       "38.7"
      ]
     },
     "execution_count": 34,
     "metadata": {},
     "output_type": "execute_result"
    }
   ],
   "source": [
    "10.75 * 3.6"
   ]
  },
  {
   "cell_type": "code",
   "execution_count": 32,
   "id": "2a308541-d4b2-4242-b029-ddc32790e9a1",
   "metadata": {},
   "outputs": [
    {
     "data": {
      "text/plain": [
       "3.5348837209302326"
      ]
     },
     "execution_count": 32,
     "metadata": {},
     "output_type": "execute_result"
    }
   ],
   "source": [
    "38 / 10.75"
   ]
  },
  {
   "cell_type": "code",
   "execution_count": 36,
   "id": "ae80f5b6-9a08-4b46-9e43-eede23c29424",
   "metadata": {},
   "outputs": [
    {
     "data": {
      "text/plain": [
       "24.6672"
      ]
     },
     "execution_count": 36,
     "metadata": {},
     "output_type": "execute_result"
    }
   ],
   "source": [
    "6.852 * 3.6"
   ]
  },
  {
   "cell_type": "code",
   "execution_count": 38,
   "id": "bf22220f-7b9c-415d-aaed-9902f8a9bef8",
   "metadata": {},
   "outputs": [
    {
     "data": {
      "text/plain": [
       "[{'timestamp': datetime.datetime(2025, 10, 1, 12, 27, 13, tzinfo=datetime.timezone.utc),\n",
       "  'total_timer_time': 22080.0,\n",
       "  'local_timestamp': 1128284836,\n",
       "  'num_sessions': 1,\n",
       "  'type': 'auto_multi_sport',\n",
       "  'event': 1,\n",
       "  'event_type': 'stop',\n",
       "  'event_group': 1}]"
      ]
     },
     "execution_count": 38,
     "metadata": {},
     "output_type": "execute_result"
    }
   ],
   "source": [
    "messages['activity_mesgs']"
   ]
  },
  {
   "cell_type": "code",
   "execution_count": 42,
   "id": "3f0642b7-706a-48c4-8bce-ff721fee50d6",
   "metadata": {},
   "outputs": [],
   "source": [
    "records = messages['record_mesgs']"
   ]
  },
  {
   "cell_type": "code",
   "execution_count": 78,
   "id": "8b80aa62-6546-41ee-a6b8-08f2cafd9dfb",
   "metadata": {},
   "outputs": [],
   "source": [
    "record_keys = set()"
   ]
  },
  {
   "cell_type": "code",
   "execution_count": null,
   "id": "20d166d7-8bab-4235-bc7b-f93c006e2b52",
   "metadata": {},
   "outputs": [],
   "source": [
    "[[record_keys.add(key) for key in record.keys()] for record in records]"
   ]
  },
  {
   "cell_type": "code",
   "execution_count": 82,
   "id": "8fb0b619-1244-4193-8dbc-61695d99fa68",
   "metadata": {},
   "outputs": [
    {
     "data": {
      "text/plain": [
       "{'altitude',\n",
       " 'distance',\n",
       " 'enhanced_altitude',\n",
       " 'enhanced_speed',\n",
       " 'grade',\n",
       " 'position_lat',\n",
       " 'position_long',\n",
       " 'speed',\n",
       " 'temperature',\n",
       " 'timestamp'}"
      ]
     },
     "execution_count": 82,
     "metadata": {},
     "output_type": "execute_result"
    }
   ],
   "source": [
    "record_keys"
   ]
  },
  {
   "cell_type": "code",
   "execution_count": 50,
   "id": "198d8b36-4d56-4ce5-ac58-cdaa925e20a5",
   "metadata": {},
   "outputs": [],
   "source": [
    "record_keys.add(2)"
   ]
  },
  {
   "cell_type": "code",
   "execution_count": 56,
   "id": "4d50724b-4985-4189-ab95-866dc3ba9377",
   "metadata": {},
   "outputs": [
    {
     "data": {
      "text/plain": [
       "{1, 2}"
      ]
     },
     "execution_count": 56,
     "metadata": {},
     "output_type": "execute_result"
    }
   ],
   "source": [
    "record_keys"
   ]
  },
  {
   "cell_type": "code",
   "execution_count": 76,
   "id": "5abe7cc2-333c-43af-b0ae-0349b4fbf9b4",
   "metadata": {},
   "outputs": [],
   "source": [
    "for i in records:\n",
    "    if ('1' in i or '2' in i):\n",
    "        print(i)"
   ]
  },
  {
   "cell_type": "code",
   "execution_count": 146,
   "id": "6d59df96-575b-4215-8f49-507694f515d8",
   "metadata": {},
   "outputs": [],
   "source": [
    "demo_record = records[::20][:10]"
   ]
  },
  {
   "cell_type": "code",
   "execution_count": 114,
   "id": "79cc60f5-aa31-4356-8463-81f0c7a75f80",
   "metadata": {},
   "outputs": [],
   "source": [
    "data_time = demo_record[0]['timestamp']"
   ]
  },
  {
   "cell_type": "code",
   "execution_count": 138,
   "id": "713637f6-461e-42ba-bb6d-801b052d58c6",
   "metadata": {},
   "outputs": [
    {
     "data": {
      "text/plain": [
       "1759292619.0"
      ]
     },
     "execution_count": 138,
     "metadata": {},
     "output_type": "execute_result"
    }
   ],
   "source": [
    "data_time.timestamp()"
   ]
  },
  {
   "cell_type": "code",
   "execution_count": 134,
   "id": "e52e53ec-bce1-431d-a460-1f1b91e101a5",
   "metadata": {},
   "outputs": [],
   "source": [
    "data_time = data_time.astimezone()"
   ]
  },
  {
   "cell_type": "code",
   "execution_count": 136,
   "id": "53ea6c16-b353-49e9-b2f0-d263047510fc",
   "metadata": {},
   "outputs": [
    {
     "data": {
      "text/plain": [
       "datetime.datetime(2025, 10, 1, 12, 23, 39, tzinfo=datetime.timezone(datetime.timedelta(seconds=28800), 'CST'))"
      ]
     },
     "execution_count": 136,
     "metadata": {},
     "output_type": "execute_result"
    }
   ],
   "source": [
    "data_time"
   ]
  },
  {
   "cell_type": "code",
   "execution_count": null,
   "id": "bb09286b-d2aa-4f96-ac05-ee3b7fd4abb7",
   "metadata": {},
   "outputs": [],
   "source": [
    "demo_record"
   ]
  },
  {
   "cell_type": "code",
   "execution_count": 160,
   "id": "706f81e7-d7b2-4042-89df-2ea5810be086",
   "metadata": {},
   "outputs": [],
   "source": [
    "import matplotlib.pyplot as plt\n",
    "import numpy as np\n",
    "from typing import List, Tuple\n",
    "\n",
    "def plot_compact_trajectory(compact_coords: List[Tuple[int, int]], \n",
    "                           title=\"GPS轨迹图\", \n",
    "                           show_stats=True):\n",
    "    \"\"\"\n",
    "    绘制紧凑格式坐标的轨迹图\n",
    "    \n",
    "    Args:\n",
    "        compact_coords: 紧凑格式坐标列表 [(lat1, lon1), (lat2, lon2), ...]\n",
    "        title: 图表标题\n",
    "        show_stats: 是否显示统计信息\n",
    "    \"\"\"\n",
    "    \n",
    "    # 转换为标准坐标\n",
    "    standard_coords = []\n",
    "    lats, lons = [], []\n",
    "    \n",
    "    for compact_lat, compact_lon in compact_coords:\n",
    "        lat_deg = compact_lat * (180.0 / 2**31)\n",
    "        lon_deg = compact_lon * (180.0 / 2**31)\n",
    "        standard_coords.append((lat_deg, lon_deg))\n",
    "        lats.append(lat_deg)\n",
    "        lons.append(lon_deg)\n",
    "    \n",
    "    # 创建图表\n",
    "    plt.figure(figsize=(12, 8))\n",
    "    \n",
    "    # 绘制轨迹线\n",
    "    plt.plot(lons, lats, 'b-', alpha=0.7, linewidth=2, label='运动轨迹')\n",
    "    \n",
    "    # 标记起点和终点\n",
    "    plt.plot(lons[0], lats[0], 'go', markersize=10, label='起点')\n",
    "    plt.plot(lons[-1], lats[-1], 'ro', markersize=10, label='终点')\n",
    "    \n",
    "    # 添加一些中间点标记\n",
    "    if len(lons) > 10:\n",
    "        step = len(lons) // 5\n",
    "        for i in range(1, 5):\n",
    "            idx = i * step\n",
    "            plt.plot(lons[idx], lats[idx], 'yo', markersize=6)\n",
    "    \n",
    "    plt.xlabel('经度')\n",
    "    plt.ylabel('纬度')\n",
    "    plt.title(title)\n",
    "    plt.legend()\n",
    "    plt.grid(True, alpha=0.3)\n",
    "    \n",
    "    # 显示统计信息\n",
    "    if show_stats:\n",
    "        total_distance = calculate_total_distance(standard_coords)\n",
    "        plt.figtext(0.02, 0.02, \n",
    "                   f\"点数: {len(compact_coords)} | \"\n",
    "                   f\"总距离: {total_distance:.2f} km | \"\n",
    "                   f\"内存节省: {len(compact_coords) * 8 / 1024:.1f} KB\", \n",
    "                   fontsize=10)\n",
    "    \n",
    "    plt.tight_layout()\n",
    "    plt.show()\n",
    "    \n",
    "    # return standard_coords\n",
    "\n",
    "def calculate_total_distance(coords):\n",
    "    \"\"\"计算轨迹总距离（简化版）\"\"\"\n",
    "    total_km = 0\n",
    "    for i in range(1, len(coords)):\n",
    "        # 使用简化的距离计算（实际应用应使用Haversine公式）\n",
    "        lat1, lon1 = coords[i-1]\n",
    "        lat2, lon2 = coords[i]\n",
    "        distance = np.sqrt((lat2-lat1)**2 + (lon2-lon1)**2) * 111\n",
    "        total_km += distance\n",
    "    return total_km"
   ]
  },
  {
   "cell_type": "code",
   "execution_count": 156,
   "id": "ef3c251a-6f1c-4681-bc19-e137547bfb5f",
   "metadata": {},
   "outputs": [],
   "source": [
    "positions = [(record['position_lat'], record['position_long']) for record in records if 'position_lat' in record]"
   ]
  },
  {
   "cell_type": "code",
   "execution_count": null,
   "id": "92ce36da-3b29-4be1-ab7f-4fba486ad0bc",
   "metadata": {},
   "outputs": [],
   "source": [
    "plot_compact_trajectory(positions)"
   ]
  },
  {
   "cell_type": "code",
   "execution_count": null,
   "id": "2eb9f22a-9941-43c8-9a69-4ca7cb4502a2",
   "metadata": {},
   "outputs": [],
   "source": []
  },
  {
   "cell_type": "code",
   "execution_count": 1,
   "id": "4c4e11f0-457e-431e-9ba7-c5d5419aaf40",
   "metadata": {},
   "outputs": [
    {
     "ename": "ModuleNotFoundError",
     "evalue": "No module named 'parser'",
     "output_type": "error",
     "traceback": [
      "\u001b[0;31m---------------------------------------------------------------------------\u001b[0m",
      "\u001b[0;31mModuleNotFoundError\u001b[0m                       Traceback (most recent call last)",
      "Cell \u001b[0;32mIn[1], line 1\u001b[0m\n\u001b[0;32m----> 1\u001b[0m \u001b[38;5;28;01mfrom\u001b[39;00m \u001b[38;5;21;01mparser\u001b[39;00m \u001b[38;5;28;01mimport\u001b[39;00m Fitparser\n",
      "\u001b[0;31mModuleNotFoundError\u001b[0m: No module named 'parser'"
     ]
    }
   ],
   "source": [
    "from parser import Fitparser"
   ]
  },
  {
   "cell_type": "code",
   "execution_count": 5,
   "id": "b04e99cd-2b8f-4d1f-a57c-c2639b369b3d",
   "metadata": {},
   "outputs": [],
   "source": [
    "from typing import List"
   ]
  },
  {
   "cell_type": "code",
   "execution_count": 7,
   "id": "d822f298-bd74-49de-b747-191c82586cc7",
   "metadata": {},
   "outputs": [],
   "source": [
    "res_list: List[str] = ['abc', 'def']"
   ]
  },
  {
   "cell_type": "code",
   "execution_count": 9,
   "id": "152e197d-b8eb-4a85-bff7-bcef8a5465f2",
   "metadata": {},
   "outputs": [
    {
     "data": {
      "text/plain": [
       "'def'"
      ]
     },
     "execution_count": 9,
     "metadata": {},
     "output_type": "execute_result"
    }
   ],
   "source": [
    "res_list[1]"
   ]
  },
  {
   "cell_type": "code",
   "execution_count": null,
   "id": "90abc71f-ffa7-41a5-b9cc-891b755e59d4",
   "metadata": {},
   "outputs": [],
   "source": []
  }
 ],
 "metadata": {
  "kernelspec": {
   "display_name": "Python 3 (ipykernel)",
   "language": "python",
   "name": "python3"
  },
  "language_info": {
   "codemirror_mode": {
    "name": "ipython",
    "version": 3
   },
   "file_extension": ".py",
   "mimetype": "text/x-python",
   "name": "python",
   "nbconvert_exporter": "python",
   "pygments_lexer": "ipython3",
   "version": "3.12.4"
  }
 },
 "nbformat": 4,
 "nbformat_minor": 5
}
